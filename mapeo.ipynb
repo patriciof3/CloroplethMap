{
 "cells": [
  {
   "cell_type": "code",
   "execution_count": 19,
   "metadata": {},
   "outputs": [],
   "source": [
    "#IMPORT LIBRARIES\n",
    "import pandas as pd\n",
    "import geopandas as gpd\n",
    "import matplotlib.pyplot as plt\n",
    "import contextily as cx\n",
    "import matplotlib.patheffects as pe"
   ]
  },
  {
   "cell_type": "code",
   "execution_count": 20,
   "metadata": {},
   "outputs": [],
   "source": [
    "# SETTING VARIABLES\n",
    "\n",
    "#csv containing dataframe\n",
    "my_csv_file = \" \"\n",
    "#name of column that is going to be plotted\n",
    "var_name = \"\"\n",
    "#name of attribbute of said column that is going to be plotted\n",
    "atrib_name = \"\"\n",
    "#title for the plot\n",
    "title = \"\""
   ]
  },
  {
   "cell_type": "code",
   "execution_count": 21,
   "metadata": {},
   "outputs": [
    {
     "name": "stderr",
     "output_type": "stream",
     "text": [
      "c:\\Users\\patricio\\anaconda3\\lib\\site-packages\\geopandas\\array.py:275: ShapelyDeprecationWarning: The array interface is deprecated and will no longer work in Shapely 2.0. Convert the '.coords' to a numpy array instead.\n",
      "  return GeometryArray(vectorized.points_from_xy(x, y, z), crs=crs)\n"
     ]
    }
   ],
   "source": [
    "# RREATE DF FROM CSV AND SHAPEFILE WITH DISTRICTS\n",
    "\n",
    "#read the csv file\n",
    "df = pd.read_csv(my_csv_file, sep = \";\")\n",
    "\n",
    "# change lat and long format\n",
    "df.Latitud.replace(to_replace=\",\",value=\".\", inplace=True, regex=True)\n",
    "\n",
    "df.Longitud.replace(to_replace=\",\", value=\".\", inplace=True, regex=True)\n",
    "\n",
    "#drop cases where there is no localization data\n",
    "df = df[~df.Latitud.str.contains(\" \")]\n",
    "\n",
    "df = df[~df.Longitud.str.contains(\" \")]\n",
    "\n",
    "\n",
    "#Transform df into a geodataframe\n",
    "dfgeo = gpd.GeoDataFrame(df, geometry=gpd.points_from_xy(df.Longitud, df.Latitud))\n",
    "\n",
    "#Set crs of coordinates in dfgeo to match distritos\n",
    "dfgeo = dfgeo.set_crs(\"EPSG:4326\")\n",
    "\n",
    "#Create geodataframe with distritos \n",
    "distritos = gpd.read_file(\"DISTRITOS-polygon.shp\")\n",
    "dfgeo = dfgeo.set_crs(\"EPSG:4326\")\n",
    "\n",
    "#Join both dataframes according to in wich district is located each case\n",
    "geojoined = gpd.sjoin(dfgeo, distritos, op=\"within\")"
   ]
  },
  {
   "cell_type": "code",
   "execution_count": null,
   "metadata": {},
   "outputs": [],
   "source": [
    "#DEFINE FUNCTION TO CREATE A LIST WITH PERCENTAGES OF ATTRIBUTE IN EACH DISTRICT\n",
    "\n",
    "list_porc = []\n",
    "\n",
    "def porcentaje(distri):\n",
    "    geodist=geojoined[geojoined.Name == distri]\n",
    "\n",
    "    porcdist = geodist[var_name][geodist[var_name] == atrib_name].count() *100 / geodist[var_name].count()\n",
    "\n",
    "    list_porc.append(porcdist)\n",
    "\n",
    "    return list_porc\n",
    "\n",
    "dist= distritos.Name.values\n",
    "\n",
    "list_porc=[]\n",
    "\n",
    "for i in dist:\n",
    "    porcentaje(i)\n",
    "\n",
    "\n",
    "#ADD LIST AS A COLUMN IN DISTRICTS DATAFRAME\n",
    "\n",
    "distritos[\"new_var\"]=list_porc\n",
    "distritos[\"new_var\"]=distritos[\"new_var\"].round(decimals=1)\n",
    "\n",
    "list_porc"
   ]
  },
  {
   "cell_type": "code",
   "execution_count": null,
   "metadata": {},
   "outputs": [],
   "source": [
    "#PLOT THE MAP \n",
    "fig, ax = plt.subplots(figsize=(8, 8))\n",
    "\n",
    "distritos.plot(ax=ax,\n",
    "                column=\"new_var\",\n",
    "                cmap=\"Blues\",\n",
    "                legend=False,\n",
    "                edgecolor=\"0\")\n",
    "\n",
    "\n",
    "distritos.apply(lambda x: ax.annotate(text=x['new_var'],\n",
    "                 xy=x.geometry.centroid.coords[0],\n",
    "                 ha='center',\n",
    "                 fontsize=13,\n",
    "                 color=\"white\",\n",
    "                 path_effects=[pe.withStroke(linewidth=3, foreground=\"black\")]),\n",
    "                 axis=1)\n",
    "\n",
    "ax.axis(\"off\")\n",
    "\n",
    "ax.set_title(title, fontsize=18, font=\"monospace\", ha=\"center\")\n",
    "\n"
   ]
  }
 ],
 "metadata": {
  "kernelspec": {
   "display_name": "Python 3.9.13 ('base')",
   "language": "python",
   "name": "python3"
  },
  "language_info": {
   "codemirror_mode": {
    "name": "ipython",
    "version": 3
   },
   "file_extension": ".py",
   "mimetype": "text/x-python",
   "name": "python",
   "nbconvert_exporter": "python",
   "pygments_lexer": "ipython3",
   "version": "3.9.13"
  },
  "orig_nbformat": 4,
  "vscode": {
   "interpreter": {
    "hash": "696b982ae7b5903a53e1c4acc8be1c62fc78293862f668ce97d46f840077dbf5"
   }
  }
 },
 "nbformat": 4,
 "nbformat_minor": 2
}
